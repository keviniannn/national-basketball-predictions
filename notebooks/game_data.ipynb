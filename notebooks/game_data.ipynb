{
 "cells": [
  {
   "cell_type": "code",
   "execution_count": 75,
   "id": "12d65e30-2818-4ffc-8120-3de5443c6a6a",
   "metadata": {},
   "outputs": [
    {
     "name": "stdout",
     "output_type": "stream",
     "text": [
      "  SEASON_ID     TEAM_ID TEAM_ABBREVIATION               TEAM_NAME     GAME_ID  \\\n",
      "0     22024  1610612752               NYK         New York Knicks  0022400061   \n",
      "1     22024  1610612747               LAL      Los Angeles Lakers  0022400062   \n",
      "2     22024  1610612750               MIN  Minnesota Timberwolves  0022400062   \n",
      "3     22024  1610612738               BOS          Boston Celtics  0022400061   \n",
      "4     22024  1610612748               MIA              Miami Heat  0022400065   \n",
      "\n",
      "    GAME_DATE      MATCHUP WL  MIN  FGM  ...  DREB  REB  AST  STL  BLK  TOV  \\\n",
      "0  2024-10-22    NYK @ BOS  L  240   43  ...    29   34   20    2    3   12   \n",
      "1  2024-10-22  LAL vs. MIN  W  240   42  ...    31   46   22    7    8    7   \n",
      "2  2024-10-22    MIN @ LAL  L  240   35  ...    35   47   17    4    1   16   \n",
      "3  2024-10-22  BOS vs. NYK  W  240   48  ...    29   40   33    6    3    4   \n",
      "4  2024-10-23  MIA vs. ORL  L  240   32  ...    32   41   24    5    8   11   \n",
      "\n",
      "   PF  PTS  PLUS_MINUS  VIDEO_AVAILABLE  \n",
      "0  12  109         -23                1  \n",
      "1  22  110           7                1  \n",
      "2  22  103          -7                1  \n",
      "3  15  132          23                1  \n",
      "4  19   97         -19                1  \n",
      "\n",
      "[5 rows x 29 columns]\n"
     ]
    }
   ],
   "source": [
    "import pandas as pd\n",
    "from nba_api.stats.endpoints import leaguegamelog\n",
    "\n",
    "# fetch game data\n",
    "gamelog = leaguegamelog.LeagueGameLog(season=\"2024-25\")\n",
    "data = gamelog.get_data_frames()[0]\n",
    "\n",
    "print(data.head())"
   ]
  },
  {
   "cell_type": "code",
   "execution_count": 76,
   "id": "f279cb97-dd24-4754-9bca-70dd319170a8",
   "metadata": {},
   "outputs": [
    {
     "name": "stdout",
     "output_type": "stream",
     "text": [
      "      GAME_ID  TEAM_ID_HOME  PTS_HOME  REB_HOME  AST_HOME  STL_HOME  BLK_HOME  \\\n",
      "0  0022400062    1610612747       110        46        22         7         8   \n",
      "1  0022400061    1610612738       132        40        33         6         3   \n",
      "2  0022400065    1610612748        97        41        24         5         8   \n",
      "3  0022400072    1610612757       104        42        21        10         4   \n",
      "4  0022400071    1610612746       113        51        27         9         1   \n",
      "\n",
      "   TOV_HOME  TEAM_ID_AWAY  PTS_AWAY  REB_AWAY  AST_AWAY  STL_AWAY  BLK_AWAY  \\\n",
      "0         7    1610612750       103        47        17         4         1   \n",
      "1         4    1610612752       109        34        20         2         3   \n",
      "2        11    1610612753       116        57        28         8         8   \n",
      "3        18    1610612744       140        57        38        13         5   \n",
      "4        22    1610612756       116        42        25        12         9   \n",
      "\n",
      "   TOV_AWAY  HOME_WIN  \n",
      "0        16         1  \n",
      "1        12         1  \n",
      "2        14         0  \n",
      "3        18         0  \n",
      "4        22         0  \n"
     ]
    }
   ],
   "source": [
    "# split data into home and away teams\n",
    "home_teams = data[data['MATCHUP'].str.contains(\"vs.\")]\n",
    "away_teams = data[data['MATCHUP'].str.contains(\"@\")]\n",
    "\n",
    "# merge data for the same game based on GAME_ID\n",
    "combined = pd.merge(home_teams, away_teams, on='GAME_ID', suffixes=('_HOME', '_AWAY'))\n",
    "\n",
    "# select relevant columns for analysis\n",
    "# keep stats for home and away teams, and any additional metadata\n",
    "combined = combined[[\n",
    "    'GAME_ID',\n",
    "    'TEAM_ID_HOME', 'PTS_HOME', 'REB_HOME', 'AST_HOME', 'STL_HOME', 'BLK_HOME', 'TOV_HOME',\n",
    "    'TEAM_ID_AWAY', 'PTS_AWAY', 'REB_AWAY', 'AST_AWAY', 'STL_AWAY', 'BLK_AWAY', 'TOV_AWAY',\n",
    "    'WL_HOME'\n",
    "]]\n",
    "\n",
    "# rename the columns for clarity\n",
    "combined = combined.rename(columns={'WL_HOME': 'HOME_WIN'})\n",
    "\n",
    "# convert WL_home to a binary outcome: 1 if home team won, 0 otherwise\n",
    "combined['HOME_WIN'] = combined['HOME_WIN'].apply(lambda x: 1 if x == 'W' else 0)\n",
    "\n",
    "# save or analyze the reshaped data\n",
    "print(combined.head())"
   ]
  },
  {
   "cell_type": "code",
   "execution_count": 74,
   "id": "f6cf6d00-f81e-4fef-a5aa-e616c63d44b0",
   "metadata": {},
   "outputs": [],
   "source": [
    "combined.to_csv(\"../data/game_data.csv\", index=False)"
   ]
  },
  {
   "cell_type": "code",
   "execution_count": null,
   "id": "1d1d2c9f-a604-47a2-9868-d85705566132",
   "metadata": {},
   "outputs": [],
   "source": []
  }
 ],
 "metadata": {
  "kernelspec": {
   "display_name": "Python 3 (ipykernel)",
   "language": "python",
   "name": "python3"
  },
  "language_info": {
   "codemirror_mode": {
    "name": "ipython",
    "version": 3
   },
   "file_extension": ".py",
   "mimetype": "text/x-python",
   "name": "python",
   "nbconvert_exporter": "python",
   "pygments_lexer": "ipython3",
   "version": "3.12.1"
  }
 },
 "nbformat": 4,
 "nbformat_minor": 5
}
