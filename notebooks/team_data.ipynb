{
 "cells": [
  {
   "cell_type": "code",
   "execution_count": 14,
   "id": "12d65e30-2818-4ffc-8120-3de5443c6a6a",
   "metadata": {},
   "outputs": [
    {
     "name": "stdout",
     "output_type": "stream",
     "text": [
      "      TEAM_ID          TEAM_NAME  GP   W   L  W_PCT     MIN   FGM   FGA  \\\n",
      "0  1610612737      Atlanta Hawks  36  18  18  0.500  1738.0  1537  3314   \n",
      "1  1610612738     Boston Celtics  36  26  10  0.722  1743.0  1504  3270   \n",
      "2  1610612751      Brooklyn Nets  36  13  23  0.361  1738.0  1372  3049   \n",
      "3  1610612766  Charlotte Hornets  34   7  27  0.206  1647.0  1299  3050   \n",
      "4  1610612741      Chicago Bulls  36  17  19  0.472  1733.0  1554  3325   \n",
      "\n",
      "   FG_PCT  ...  REB_RANK  AST_RANK  TOV_RANK  STL_RANK  BLK_RANK  BLKA_RANK  \\\n",
      "0   0.464  ...         4         3        26         2        10         23   \n",
      "1   0.460  ...         7        15         2        20         6          2   \n",
      "2   0.450  ...        29        16        22        28        29         26   \n",
      "3   0.426  ...        15        28        20        22        20         21   \n",
      "4   0.467  ...         6         4        19        20        21         17   \n",
      "\n",
      "   PF_RANK  PFD_RANK  PTS_RANK  PLUS_MINUS_RANK  \n",
      "0       13         3         8               21  \n",
      "1        3        14         5                3  \n",
      "2       28         7        20               24  \n",
      "3       22        21        29               25  \n",
      "4       12        30         7               23  \n",
      "\n",
      "[5 rows x 54 columns]\n"
     ]
    }
   ],
   "source": [
    "from nba_api.stats.endpoints import leaguedashteamstats\n",
    "import pandas as pd\n",
    "\n",
    "# fetch team stats from the current NBA season\n",
    "team_stats = leaguedashteamstats.LeagueDashTeamStats(season='2024-25')\n",
    "data = team_stats.get_data_frames()[0]\n",
    "\n",
    "print(data.head())"
   ]
  },
  {
   "cell_type": "code",
   "execution_count": 15,
   "id": "5c10053a-a61f-45f4-b283-edc605a05442",
   "metadata": {},
   "outputs": [
    {
     "data": {
      "text/plain": [
       "Index(['TEAM_ID', 'TEAM_NAME', 'GP', 'W', 'L', 'W_PCT', 'MIN', 'FGM', 'FGA',\n",
       "       'FG_PCT', 'FG3M', 'FG3A', 'FG3_PCT', 'FTM', 'FTA', 'FT_PCT', 'OREB',\n",
       "       'DREB', 'REB', 'AST', 'TOV', 'STL', 'BLK', 'BLKA', 'PF', 'PFD', 'PTS',\n",
       "       'PLUS_MINUS', 'GP_RANK', 'W_RANK', 'L_RANK', 'W_PCT_RANK', 'MIN_RANK',\n",
       "       'FGM_RANK', 'FGA_RANK', 'FG_PCT_RANK', 'FG3M_RANK', 'FG3A_RANK',\n",
       "       'FG3_PCT_RANK', 'FTM_RANK', 'FTA_RANK', 'FT_PCT_RANK', 'OREB_RANK',\n",
       "       'DREB_RANK', 'REB_RANK', 'AST_RANK', 'TOV_RANK', 'STL_RANK', 'BLK_RANK',\n",
       "       'BLKA_RANK', 'PF_RANK', 'PFD_RANK', 'PTS_RANK', 'PLUS_MINUS_RANK'],\n",
       "      dtype='object')"
      ]
     },
     "execution_count": 15,
     "metadata": {},
     "output_type": "execute_result"
    }
   ],
   "source": [
    "data.columns"
   ]
  },
  {
   "cell_type": "code",
   "execution_count": 16,
   "id": "4be50b7e-897d-4091-a056-a89fb46bf639",
   "metadata": {},
   "outputs": [],
   "source": [
    "data.to_csv(\"../data/team_data.csv\", index=False)"
   ]
  },
  {
   "cell_type": "code",
   "execution_count": null,
   "id": "f6cb2bd4-5e4e-4c0a-b67e-389f9bb4c6cc",
   "metadata": {},
   "outputs": [],
   "source": []
  }
 ],
 "metadata": {
  "kernelspec": {
   "display_name": "Python 3 (ipykernel)",
   "language": "python",
   "name": "python3"
  },
  "language_info": {
   "codemirror_mode": {
    "name": "ipython",
    "version": 3
   },
   "file_extension": ".py",
   "mimetype": "text/x-python",
   "name": "python",
   "nbconvert_exporter": "python",
   "pygments_lexer": "ipython3",
   "version": "3.12.1"
  }
 },
 "nbformat": 4,
 "nbformat_minor": 5
}
